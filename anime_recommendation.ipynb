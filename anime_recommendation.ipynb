{
  "nbformat": 4,
  "nbformat_minor": 0,
  "metadata": {
    "colab": {
      "name": "anime_recommendation.ipynb",
      "provenance": [],
      "collapsed_sections": [],
      "mount_file_id": "1b31l9hvcX582RPHF3SGJSaMGTYtYxqr1",
      "authorship_tag": "ABX9TyMczNUOmUTx3ta8I4Yz9uf9"
    },
    "kernelspec": {
      "name": "python3",
      "display_name": "Python 3"
    }
  },
  "cells": [
    {
      "cell_type": "markdown",
      "metadata": {
        "id": "J28Vl2qOVsxI"
      },
      "source": [
        "#Recommendation System using SVD"
      ]
    },
    {
      "cell_type": "markdown",
      "metadata": {
        "id": "JXBI2IKbVyuK"
      },
      "source": [
        "Installing the Surprise. Its a Python scikit for building and analyzing recommender systems that deal with explicit rating data."
      ]
    },
    {
      "cell_type": "code",
      "metadata": {
        "colab": {
          "base_uri": "https://localhost:8080/"
        },
        "id": "mcYZS6QSL1rR",
        "outputId": "6594c38b-eebf-44cf-fdbc-76da8210d04d"
      },
      "source": [
        "!pip install scikit-surprise"
      ],
      "execution_count": 1,
      "outputs": [
        {
          "output_type": "stream",
          "text": [
            "Collecting scikit-surprise\n",
            "\u001b[?25l  Downloading https://files.pythonhosted.org/packages/97/37/5d334adaf5ddd65da99fc65f6507e0e4599d092ba048f4302fe8775619e8/scikit-surprise-1.1.1.tar.gz (11.8MB)\n",
            "\u001b[K     |████████████████████████████████| 11.8MB 324kB/s \n",
            "\u001b[?25hRequirement already satisfied: joblib>=0.11 in /usr/local/lib/python3.7/dist-packages (from scikit-surprise) (1.0.1)\n",
            "Requirement already satisfied: numpy>=1.11.2 in /usr/local/lib/python3.7/dist-packages (from scikit-surprise) (1.19.5)\n",
            "Requirement already satisfied: scipy>=1.0.0 in /usr/local/lib/python3.7/dist-packages (from scikit-surprise) (1.4.1)\n",
            "Requirement already satisfied: six>=1.10.0 in /usr/local/lib/python3.7/dist-packages (from scikit-surprise) (1.15.0)\n",
            "Building wheels for collected packages: scikit-surprise\n",
            "  Building wheel for scikit-surprise (setup.py) ... \u001b[?25l\u001b[?25hdone\n",
            "  Created wheel for scikit-surprise: filename=scikit_surprise-1.1.1-cp37-cp37m-linux_x86_64.whl size=1617547 sha256=31bc26289f8e9cb0cb54379b6cd4eaa847e5521952c88ec5586be74827c1fee4\n",
            "  Stored in directory: /root/.cache/pip/wheels/78/9c/3d/41b419c9d2aff5b6e2b4c0fc8d25c538202834058f9ed110d0\n",
            "Successfully built scikit-surprise\n",
            "Installing collected packages: scikit-surprise\n",
            "Successfully installed scikit-surprise-1.1.1\n"
          ],
          "name": "stdout"
        }
      ]
    },
    {
      "cell_type": "code",
      "metadata": {
        "id": "VaIqppuyo5Kq"
      },
      "source": [
        "import numpy as np\r\n",
        "import pandas as pd\r\n",
        "from surprise import Dataset\r\n",
        "from surprise import Reader\r\n",
        "from surprise import SVD\r\n",
        "from surprise.model_selection import train_test_split\r\n",
        "from surprise import accuracy\r\n",
        "from collections import defaultdict"
      ],
      "execution_count": 2,
      "outputs": []
    },
    {
      "cell_type": "code",
      "metadata": {
        "id": "WO4GxNDOszHV"
      },
      "source": [
        "anime_df = pd.read_csv('/content/drive/My Drive/AnimeList.csv')\r\n",
        "review_df = pd.read_csv('/content/drive/My Drive/UserAnimeList.csv')"
      ],
      "execution_count": 3,
      "outputs": []
    },
    {
      "cell_type": "code",
      "metadata": {
        "colab": {
          "base_uri": "https://localhost:8080/"
        },
        "id": "IekL3ow__UdK",
        "outputId": "67259c72-1bec-4c20-ef42-50bdb6ed4df5"
      },
      "source": [
        "anime_df.shape"
      ],
      "execution_count": 5,
      "outputs": [
        {
          "output_type": "execute_result",
          "data": {
            "text/plain": [
              "(14478, 31)"
            ]
          },
          "metadata": {
            "tags": []
          },
          "execution_count": 5
        }
      ]
    },
    {
      "cell_type": "code",
      "metadata": {
        "colab": {
          "base_uri": "https://localhost:8080/"
        },
        "id": "3ZQZ18qn_XMw",
        "outputId": "0183a83c-576a-4976-d790-12ef4190c69a"
      },
      "source": [
        "review_df.shape"
      ],
      "execution_count": 6,
      "outputs": [
        {
          "output_type": "execute_result",
          "data": {
            "text/plain": [
              "(1048575, 11)"
            ]
          },
          "metadata": {
            "tags": []
          },
          "execution_count": 6
        }
      ]
    },
    {
      "cell_type": "code",
      "metadata": {
        "colab": {
          "base_uri": "https://localhost:8080/",
          "height": 829
        },
        "id": "C3vMFDdVs7JK",
        "outputId": "21366b80-1865-4960-e706-8ba6362a9e41"
      },
      "source": [
        "anime_df.head()"
      ],
      "execution_count": 7,
      "outputs": [
        {
          "output_type": "execute_result",
          "data": {
            "text/html": [
              "<div>\n",
              "<style scoped>\n",
              "    .dataframe tbody tr th:only-of-type {\n",
              "        vertical-align: middle;\n",
              "    }\n",
              "\n",
              "    .dataframe tbody tr th {\n",
              "        vertical-align: top;\n",
              "    }\n",
              "\n",
              "    .dataframe thead th {\n",
              "        text-align: right;\n",
              "    }\n",
              "</style>\n",
              "<table border=\"1\" class=\"dataframe\">\n",
              "  <thead>\n",
              "    <tr style=\"text-align: right;\">\n",
              "      <th></th>\n",
              "      <th>anime_id</th>\n",
              "      <th>title</th>\n",
              "      <th>title_english</th>\n",
              "      <th>title_japanese</th>\n",
              "      <th>title_synonyms</th>\n",
              "      <th>image_url</th>\n",
              "      <th>type</th>\n",
              "      <th>source</th>\n",
              "      <th>episodes</th>\n",
              "      <th>status</th>\n",
              "      <th>airing</th>\n",
              "      <th>aired_string</th>\n",
              "      <th>aired</th>\n",
              "      <th>duration</th>\n",
              "      <th>rating</th>\n",
              "      <th>score</th>\n",
              "      <th>scored_by</th>\n",
              "      <th>rank</th>\n",
              "      <th>popularity</th>\n",
              "      <th>members</th>\n",
              "      <th>favorites</th>\n",
              "      <th>background</th>\n",
              "      <th>premiered</th>\n",
              "      <th>broadcast</th>\n",
              "      <th>related</th>\n",
              "      <th>producer</th>\n",
              "      <th>licensor</th>\n",
              "      <th>studio</th>\n",
              "      <th>genre</th>\n",
              "      <th>opening_theme</th>\n",
              "      <th>ending_theme</th>\n",
              "    </tr>\n",
              "  </thead>\n",
              "  <tbody>\n",
              "    <tr>\n",
              "      <th>0</th>\n",
              "      <td>11013</td>\n",
              "      <td>Inu x Boku SS</td>\n",
              "      <td>Inu X Boku Secret Service</td>\n",
              "      <td>妖狐×僕SS</td>\n",
              "      <td>Youko x Boku SS</td>\n",
              "      <td>https://myanimelist.cdn-dena.com/images/anime/...</td>\n",
              "      <td>TV</td>\n",
              "      <td>Manga</td>\n",
              "      <td>12</td>\n",
              "      <td>Finished Airing</td>\n",
              "      <td>False</td>\n",
              "      <td>Jan 13, 2012 to Mar 30, 2012</td>\n",
              "      <td>{'from': '2012-01-13', 'to': '2012-03-30'}</td>\n",
              "      <td>24 min. per ep.</td>\n",
              "      <td>PG-13 - Teens 13 or older</td>\n",
              "      <td>7.63</td>\n",
              "      <td>139250</td>\n",
              "      <td>1274.0</td>\n",
              "      <td>231</td>\n",
              "      <td>283882</td>\n",
              "      <td>2809</td>\n",
              "      <td>Inu x Boku SS was licensed by Sentai Filmworks...</td>\n",
              "      <td>Winter 2012</td>\n",
              "      <td>Fridays at Unknown</td>\n",
              "      <td>{'Adaptation': [{'mal_id': 17207, 'type': 'man...</td>\n",
              "      <td>Aniplex, Square Enix, Mainichi Broadcasting Sy...</td>\n",
              "      <td>Sentai Filmworks</td>\n",
              "      <td>David Production</td>\n",
              "      <td>Comedy, Supernatural, Romance, Shounen</td>\n",
              "      <td>['\"Nirvana\" by MUCC']</td>\n",
              "      <td>['#1: \"Nirvana\" by MUCC (eps 1, 11-12)', '#2: ...</td>\n",
              "    </tr>\n",
              "    <tr>\n",
              "      <th>1</th>\n",
              "      <td>2104</td>\n",
              "      <td>Seto no Hanayome</td>\n",
              "      <td>My Bride is a Mermaid</td>\n",
              "      <td>瀬戸の花嫁</td>\n",
              "      <td>The Inland Sea Bride</td>\n",
              "      <td>https://myanimelist.cdn-dena.com/images/anime/...</td>\n",
              "      <td>TV</td>\n",
              "      <td>Manga</td>\n",
              "      <td>26</td>\n",
              "      <td>Finished Airing</td>\n",
              "      <td>False</td>\n",
              "      <td>Apr 2, 2007 to Oct 1, 2007</td>\n",
              "      <td>{'from': '2007-04-02', 'to': '2007-10-01'}</td>\n",
              "      <td>24 min. per ep.</td>\n",
              "      <td>PG-13 - Teens 13 or older</td>\n",
              "      <td>7.89</td>\n",
              "      <td>91206</td>\n",
              "      <td>727.0</td>\n",
              "      <td>366</td>\n",
              "      <td>204003</td>\n",
              "      <td>2579</td>\n",
              "      <td>NaN</td>\n",
              "      <td>Spring 2007</td>\n",
              "      <td>Unknown</td>\n",
              "      <td>{'Adaptation': [{'mal_id': 759, 'type': 'manga...</td>\n",
              "      <td>TV Tokyo, AIC, Square Enix, Sotsu</td>\n",
              "      <td>Funimation</td>\n",
              "      <td>Gonzo</td>\n",
              "      <td>Comedy, Parody, Romance, School, Shounen</td>\n",
              "      <td>['\"Romantic summer\" by SUN&amp;LUNAR']</td>\n",
              "      <td>['#1: \"Ashita e no Hikari (明日への光)\" by Asuka Hi...</td>\n",
              "    </tr>\n",
              "    <tr>\n",
              "      <th>2</th>\n",
              "      <td>5262</td>\n",
              "      <td>Shugo Chara!! Doki</td>\n",
              "      <td>Shugo Chara!! Doki</td>\n",
              "      <td>しゅごキャラ！！どきっ</td>\n",
              "      <td>Shugo Chara Ninenme, Shugo Chara! Second Year</td>\n",
              "      <td>https://myanimelist.cdn-dena.com/images/anime/...</td>\n",
              "      <td>TV</td>\n",
              "      <td>Manga</td>\n",
              "      <td>51</td>\n",
              "      <td>Finished Airing</td>\n",
              "      <td>False</td>\n",
              "      <td>Oct 4, 2008 to Sep 25, 2009</td>\n",
              "      <td>{'from': '2008-10-04', 'to': '2009-09-25'}</td>\n",
              "      <td>24 min. per ep.</td>\n",
              "      <td>PG - Children</td>\n",
              "      <td>7.55</td>\n",
              "      <td>37129</td>\n",
              "      <td>1508.0</td>\n",
              "      <td>1173</td>\n",
              "      <td>70127</td>\n",
              "      <td>802</td>\n",
              "      <td>NaN</td>\n",
              "      <td>Fall 2008</td>\n",
              "      <td>Unknown</td>\n",
              "      <td>{'Adaptation': [{'mal_id': 101, 'type': 'manga...</td>\n",
              "      <td>TV Tokyo, Sotsu</td>\n",
              "      <td>NaN</td>\n",
              "      <td>Satelight</td>\n",
              "      <td>Comedy, Magic, School, Shoujo</td>\n",
              "      <td>['#1: \"Minna no Tamago (みんなのたまご)\" by Shugo Cha...</td>\n",
              "      <td>['#1: \"Rottara Rottara (ロッタラ ロッタラ)\" by Buono! ...</td>\n",
              "    </tr>\n",
              "    <tr>\n",
              "      <th>3</th>\n",
              "      <td>721</td>\n",
              "      <td>Princess Tutu</td>\n",
              "      <td>Princess Tutu</td>\n",
              "      <td>プリンセスチュチュ</td>\n",
              "      <td>NaN</td>\n",
              "      <td>https://myanimelist.cdn-dena.com/images/anime/...</td>\n",
              "      <td>TV</td>\n",
              "      <td>Original</td>\n",
              "      <td>38</td>\n",
              "      <td>Finished Airing</td>\n",
              "      <td>False</td>\n",
              "      <td>Aug 16, 2002 to May 23, 2003</td>\n",
              "      <td>{'from': '2002-08-16', 'to': '2003-05-23'}</td>\n",
              "      <td>16 min. per ep.</td>\n",
              "      <td>PG-13 - Teens 13 or older</td>\n",
              "      <td>8.21</td>\n",
              "      <td>36501</td>\n",
              "      <td>307.0</td>\n",
              "      <td>916</td>\n",
              "      <td>93312</td>\n",
              "      <td>3344</td>\n",
              "      <td>Princess Tutu aired in two parts. The first pa...</td>\n",
              "      <td>Summer 2002</td>\n",
              "      <td>Fridays at Unknown</td>\n",
              "      <td>{'Adaptation': [{'mal_id': 1581, 'type': 'mang...</td>\n",
              "      <td>Memory-Tech, GANSIS, Marvelous AQL</td>\n",
              "      <td>ADV Films</td>\n",
              "      <td>Hal Film Maker</td>\n",
              "      <td>Comedy, Drama, Magic, Romance, Fantasy</td>\n",
              "      <td>['\"Morning Grace\" by Ritsuko Okazaki']</td>\n",
              "      <td>['\"Watashi No Ai Wa Chiisaikeredo\" by Ritsuko ...</td>\n",
              "    </tr>\n",
              "    <tr>\n",
              "      <th>4</th>\n",
              "      <td>12365</td>\n",
              "      <td>Bakuman. 3rd Season</td>\n",
              "      <td>Bakuman.</td>\n",
              "      <td>バクマン。</td>\n",
              "      <td>Bakuman Season 3</td>\n",
              "      <td>https://myanimelist.cdn-dena.com/images/anime/...</td>\n",
              "      <td>TV</td>\n",
              "      <td>Manga</td>\n",
              "      <td>25</td>\n",
              "      <td>Finished Airing</td>\n",
              "      <td>False</td>\n",
              "      <td>Oct 6, 2012 to Mar 30, 2013</td>\n",
              "      <td>{'from': '2012-10-06', 'to': '2013-03-30'}</td>\n",
              "      <td>24 min. per ep.</td>\n",
              "      <td>PG-13 - Teens 13 or older</td>\n",
              "      <td>8.67</td>\n",
              "      <td>107767</td>\n",
              "      <td>50.0</td>\n",
              "      <td>426</td>\n",
              "      <td>182765</td>\n",
              "      <td>2082</td>\n",
              "      <td>NaN</td>\n",
              "      <td>Fall 2012</td>\n",
              "      <td>Unknown</td>\n",
              "      <td>{'Adaptation': [{'mal_id': 9711, 'type': 'mang...</td>\n",
              "      <td>NHK, Shueisha</td>\n",
              "      <td>NaN</td>\n",
              "      <td>J.C.Staff</td>\n",
              "      <td>Comedy, Drama, Romance, Shounen</td>\n",
              "      <td>['#1: \"Moshimo no Hanashi (もしもの話)\" by nano.RIP...</td>\n",
              "      <td>['#1: \"Pride on Everyday\" by Sphere (eps 1-13)...</td>\n",
              "    </tr>\n",
              "  </tbody>\n",
              "</table>\n",
              "</div>"
            ],
            "text/plain": [
              "   anime_id  ...                                       ending_theme\n",
              "0     11013  ...  ['#1: \"Nirvana\" by MUCC (eps 1, 11-12)', '#2: ...\n",
              "1      2104  ...  ['#1: \"Ashita e no Hikari (明日への光)\" by Asuka Hi...\n",
              "2      5262  ...  ['#1: \"Rottara Rottara (ロッタラ ロッタラ)\" by Buono! ...\n",
              "3       721  ...  ['\"Watashi No Ai Wa Chiisaikeredo\" by Ritsuko ...\n",
              "4     12365  ...  ['#1: \"Pride on Everyday\" by Sphere (eps 1-13)...\n",
              "\n",
              "[5 rows x 31 columns]"
            ]
          },
          "metadata": {
            "tags": []
          },
          "execution_count": 7
        }
      ]
    },
    {
      "cell_type": "markdown",
      "metadata": {
        "id": "oXLqaHxJZ5wb"
      },
      "source": [
        "review_df contains only those reviews where the user is currently watching the anime or has completed watching the anime"
      ]
    },
    {
      "cell_type": "code",
      "metadata": {
        "colab": {
          "base_uri": "https://localhost:8080/",
          "height": 222
        },
        "id": "eWe3c97pt-QE",
        "outputId": "d7952f58-3a7a-4c68-8744-15a527b2e864"
      },
      "source": [
        "review_df.head()"
      ],
      "execution_count": 8,
      "outputs": [
        {
          "output_type": "execute_result",
          "data": {
            "text/html": [
              "<div>\n",
              "<style scoped>\n",
              "    .dataframe tbody tr th:only-of-type {\n",
              "        vertical-align: middle;\n",
              "    }\n",
              "\n",
              "    .dataframe tbody tr th {\n",
              "        vertical-align: top;\n",
              "    }\n",
              "\n",
              "    .dataframe thead th {\n",
              "        text-align: right;\n",
              "    }\n",
              "</style>\n",
              "<table border=\"1\" class=\"dataframe\">\n",
              "  <thead>\n",
              "    <tr style=\"text-align: right;\">\n",
              "      <th></th>\n",
              "      <th>username</th>\n",
              "      <th>anime_id</th>\n",
              "      <th>my_watched_episodes</th>\n",
              "      <th>my_start_date</th>\n",
              "      <th>my_finish_date</th>\n",
              "      <th>my_score</th>\n",
              "      <th>my_status</th>\n",
              "      <th>my_rewatching</th>\n",
              "      <th>my_rewatching_ep</th>\n",
              "      <th>my_last_updated</th>\n",
              "      <th>my_tags</th>\n",
              "    </tr>\n",
              "  </thead>\n",
              "  <tbody>\n",
              "    <tr>\n",
              "      <th>0</th>\n",
              "      <td>karthiga</td>\n",
              "      <td>21</td>\n",
              "      <td>586</td>\n",
              "      <td>0000-00-00</td>\n",
              "      <td>0000-00-00</td>\n",
              "      <td>9</td>\n",
              "      <td>1</td>\n",
              "      <td>NaN</td>\n",
              "      <td>0</td>\n",
              "      <td>1362307973</td>\n",
              "      <td>NaN</td>\n",
              "    </tr>\n",
              "    <tr>\n",
              "      <th>1</th>\n",
              "      <td>karthiga</td>\n",
              "      <td>59</td>\n",
              "      <td>26</td>\n",
              "      <td>0000-00-00</td>\n",
              "      <td>0000-00-00</td>\n",
              "      <td>7</td>\n",
              "      <td>2</td>\n",
              "      <td>NaN</td>\n",
              "      <td>0</td>\n",
              "      <td>1362923691</td>\n",
              "      <td>NaN</td>\n",
              "    </tr>\n",
              "    <tr>\n",
              "      <th>2</th>\n",
              "      <td>karthiga</td>\n",
              "      <td>74</td>\n",
              "      <td>26</td>\n",
              "      <td>0000-00-00</td>\n",
              "      <td>0000-00-00</td>\n",
              "      <td>7</td>\n",
              "      <td>2</td>\n",
              "      <td>NaN</td>\n",
              "      <td>0</td>\n",
              "      <td>1367081015</td>\n",
              "      <td>NaN</td>\n",
              "    </tr>\n",
              "    <tr>\n",
              "      <th>3</th>\n",
              "      <td>karthiga</td>\n",
              "      <td>120</td>\n",
              "      <td>26</td>\n",
              "      <td>0000-00-00</td>\n",
              "      <td>0000-00-00</td>\n",
              "      <td>7</td>\n",
              "      <td>2</td>\n",
              "      <td>NaN</td>\n",
              "      <td>0</td>\n",
              "      <td>1362308037</td>\n",
              "      <td>NaN</td>\n",
              "    </tr>\n",
              "    <tr>\n",
              "      <th>4</th>\n",
              "      <td>karthiga</td>\n",
              "      <td>178</td>\n",
              "      <td>26</td>\n",
              "      <td>0000-00-00</td>\n",
              "      <td>0000-00-00</td>\n",
              "      <td>7</td>\n",
              "      <td>2</td>\n",
              "      <td>0.0</td>\n",
              "      <td>0</td>\n",
              "      <td>1364399953</td>\n",
              "      <td>NaN</td>\n",
              "    </tr>\n",
              "  </tbody>\n",
              "</table>\n",
              "</div>"
            ],
            "text/plain": [
              "   username  anime_id  ...  my_last_updated my_tags\n",
              "0  karthiga        21  ...       1362307973     NaN\n",
              "1  karthiga        59  ...       1362923691     NaN\n",
              "2  karthiga        74  ...       1367081015     NaN\n",
              "3  karthiga       120  ...       1362308037     NaN\n",
              "4  karthiga       178  ...       1364399953     NaN\n",
              "\n",
              "[5 rows x 11 columns]"
            ]
          },
          "metadata": {
            "tags": []
          },
          "execution_count": 8
        }
      ]
    },
    {
      "cell_type": "markdown",
      "metadata": {
        "id": "Mc6VQJzXYqi4"
      },
      "source": [
        "Merging both dataframes on the basis of anime_id"
      ]
    },
    {
      "cell_type": "code",
      "metadata": {
        "colab": {
          "base_uri": "https://localhost:8080/",
          "height": 655
        },
        "id": "xZet4ebbt_zR",
        "outputId": "125a30f5-2935-4517-cf4a-142e6b94a899"
      },
      "source": [
        "df = pd.merge(review_df, anime_df, on=\"anime_id\", suffixes=('_review','_anime'))\r\n",
        "df.head()"
      ],
      "execution_count": 9,
      "outputs": [
        {
          "output_type": "execute_result",
          "data": {
            "text/html": [
              "<div>\n",
              "<style scoped>\n",
              "    .dataframe tbody tr th:only-of-type {\n",
              "        vertical-align: middle;\n",
              "    }\n",
              "\n",
              "    .dataframe tbody tr th {\n",
              "        vertical-align: top;\n",
              "    }\n",
              "\n",
              "    .dataframe thead th {\n",
              "        text-align: right;\n",
              "    }\n",
              "</style>\n",
              "<table border=\"1\" class=\"dataframe\">\n",
              "  <thead>\n",
              "    <tr style=\"text-align: right;\">\n",
              "      <th></th>\n",
              "      <th>username</th>\n",
              "      <th>anime_id</th>\n",
              "      <th>my_watched_episodes</th>\n",
              "      <th>my_start_date</th>\n",
              "      <th>my_finish_date</th>\n",
              "      <th>my_score</th>\n",
              "      <th>my_status</th>\n",
              "      <th>my_rewatching</th>\n",
              "      <th>my_rewatching_ep</th>\n",
              "      <th>my_last_updated</th>\n",
              "      <th>my_tags</th>\n",
              "      <th>title</th>\n",
              "      <th>title_english</th>\n",
              "      <th>title_japanese</th>\n",
              "      <th>title_synonyms</th>\n",
              "      <th>image_url</th>\n",
              "      <th>type</th>\n",
              "      <th>source</th>\n",
              "      <th>episodes</th>\n",
              "      <th>status</th>\n",
              "      <th>airing</th>\n",
              "      <th>aired_string</th>\n",
              "      <th>aired</th>\n",
              "      <th>duration</th>\n",
              "      <th>rating</th>\n",
              "      <th>score</th>\n",
              "      <th>scored_by</th>\n",
              "      <th>rank</th>\n",
              "      <th>popularity</th>\n",
              "      <th>members</th>\n",
              "      <th>favorites</th>\n",
              "      <th>background</th>\n",
              "      <th>premiered</th>\n",
              "      <th>broadcast</th>\n",
              "      <th>related</th>\n",
              "      <th>producer</th>\n",
              "      <th>licensor</th>\n",
              "      <th>studio</th>\n",
              "      <th>genre</th>\n",
              "      <th>opening_theme</th>\n",
              "      <th>ending_theme</th>\n",
              "    </tr>\n",
              "  </thead>\n",
              "  <tbody>\n",
              "    <tr>\n",
              "      <th>0</th>\n",
              "      <td>karthiga</td>\n",
              "      <td>21</td>\n",
              "      <td>586</td>\n",
              "      <td>0000-00-00</td>\n",
              "      <td>0000-00-00</td>\n",
              "      <td>9</td>\n",
              "      <td>1</td>\n",
              "      <td>NaN</td>\n",
              "      <td>0</td>\n",
              "      <td>1362307973</td>\n",
              "      <td>NaN</td>\n",
              "      <td>One Piece</td>\n",
              "      <td>One Piece</td>\n",
              "      <td>ONE PIECE</td>\n",
              "      <td>OP</td>\n",
              "      <td>https://myanimelist.cdn-dena.com/images/anime/...</td>\n",
              "      <td>TV</td>\n",
              "      <td>Manga</td>\n",
              "      <td>0</td>\n",
              "      <td>Currently Airing</td>\n",
              "      <td>True</td>\n",
              "      <td>Oct 20, 1999 to ?</td>\n",
              "      <td>{'from': '1999-10-20', 'to': None}</td>\n",
              "      <td>24 min.</td>\n",
              "      <td>PG-13 - Teens 13 or older</td>\n",
              "      <td>8.54</td>\n",
              "      <td>423868</td>\n",
              "      <td>91.0</td>\n",
              "      <td>35</td>\n",
              "      <td>720133</td>\n",
              "      <td>69760</td>\n",
              "      <td>Several anime-original arcs have been adapted ...</td>\n",
              "      <td>Fall 1999</td>\n",
              "      <td>Sundays at 09:30 (JST)</td>\n",
              "      <td>{'Adaptation': [{'mal_id': 13, 'type': 'manga'...</td>\n",
              "      <td>Fuji TV, TAP, Shueisha</td>\n",
              "      <td>Funimation, 4Kids Entertainment</td>\n",
              "      <td>Toei Animation</td>\n",
              "      <td>Action, Adventure, Comedy, Super Power, Drama,...</td>\n",
              "      <td>['#01: \"We Are! (ウィーアー!)\" by Hiroshi Kitadani ...</td>\n",
              "      <td>['#01: \"memories\" by Maki Otsuki (eps 1-30)', ...</td>\n",
              "    </tr>\n",
              "    <tr>\n",
              "      <th>1</th>\n",
              "      <td>RedvelvetDaisuki</td>\n",
              "      <td>21</td>\n",
              "      <td>0</td>\n",
              "      <td>0000-00-00</td>\n",
              "      <td>0000-00-00</td>\n",
              "      <td>0</td>\n",
              "      <td>3</td>\n",
              "      <td>0.0</td>\n",
              "      <td>0</td>\n",
              "      <td>1355480701</td>\n",
              "      <td>NaN</td>\n",
              "      <td>One Piece</td>\n",
              "      <td>One Piece</td>\n",
              "      <td>ONE PIECE</td>\n",
              "      <td>OP</td>\n",
              "      <td>https://myanimelist.cdn-dena.com/images/anime/...</td>\n",
              "      <td>TV</td>\n",
              "      <td>Manga</td>\n",
              "      <td>0</td>\n",
              "      <td>Currently Airing</td>\n",
              "      <td>True</td>\n",
              "      <td>Oct 20, 1999 to ?</td>\n",
              "      <td>{'from': '1999-10-20', 'to': None}</td>\n",
              "      <td>24 min.</td>\n",
              "      <td>PG-13 - Teens 13 or older</td>\n",
              "      <td>8.54</td>\n",
              "      <td>423868</td>\n",
              "      <td>91.0</td>\n",
              "      <td>35</td>\n",
              "      <td>720133</td>\n",
              "      <td>69760</td>\n",
              "      <td>Several anime-original arcs have been adapted ...</td>\n",
              "      <td>Fall 1999</td>\n",
              "      <td>Sundays at 09:30 (JST)</td>\n",
              "      <td>{'Adaptation': [{'mal_id': 13, 'type': 'manga'...</td>\n",
              "      <td>Fuji TV, TAP, Shueisha</td>\n",
              "      <td>Funimation, 4Kids Entertainment</td>\n",
              "      <td>Toei Animation</td>\n",
              "      <td>Action, Adventure, Comedy, Super Power, Drama,...</td>\n",
              "      <td>['#01: \"We Are! (ウィーアー!)\" by Hiroshi Kitadani ...</td>\n",
              "      <td>['#01: \"memories\" by Maki Otsuki (eps 1-30)', ...</td>\n",
              "    </tr>\n",
              "    <tr>\n",
              "      <th>2</th>\n",
              "      <td>Damonashu</td>\n",
              "      <td>21</td>\n",
              "      <td>418</td>\n",
              "      <td>0000-00-00</td>\n",
              "      <td>0000-00-00</td>\n",
              "      <td>10</td>\n",
              "      <td>1</td>\n",
              "      <td>0.0</td>\n",
              "      <td>0</td>\n",
              "      <td>1254296345</td>\n",
              "      <td>NaN</td>\n",
              "      <td>One Piece</td>\n",
              "      <td>One Piece</td>\n",
              "      <td>ONE PIECE</td>\n",
              "      <td>OP</td>\n",
              "      <td>https://myanimelist.cdn-dena.com/images/anime/...</td>\n",
              "      <td>TV</td>\n",
              "      <td>Manga</td>\n",
              "      <td>0</td>\n",
              "      <td>Currently Airing</td>\n",
              "      <td>True</td>\n",
              "      <td>Oct 20, 1999 to ?</td>\n",
              "      <td>{'from': '1999-10-20', 'to': None}</td>\n",
              "      <td>24 min.</td>\n",
              "      <td>PG-13 - Teens 13 or older</td>\n",
              "      <td>8.54</td>\n",
              "      <td>423868</td>\n",
              "      <td>91.0</td>\n",
              "      <td>35</td>\n",
              "      <td>720133</td>\n",
              "      <td>69760</td>\n",
              "      <td>Several anime-original arcs have been adapted ...</td>\n",
              "      <td>Fall 1999</td>\n",
              "      <td>Sundays at 09:30 (JST)</td>\n",
              "      <td>{'Adaptation': [{'mal_id': 13, 'type': 'manga'...</td>\n",
              "      <td>Fuji TV, TAP, Shueisha</td>\n",
              "      <td>Funimation, 4Kids Entertainment</td>\n",
              "      <td>Toei Animation</td>\n",
              "      <td>Action, Adventure, Comedy, Super Power, Drama,...</td>\n",
              "      <td>['#01: \"We Are! (ウィーアー!)\" by Hiroshi Kitadani ...</td>\n",
              "      <td>['#01: \"memories\" by Maki Otsuki (eps 1-30)', ...</td>\n",
              "    </tr>\n",
              "    <tr>\n",
              "      <th>3</th>\n",
              "      <td>bskai</td>\n",
              "      <td>21</td>\n",
              "      <td>75</td>\n",
              "      <td>0000-00-00</td>\n",
              "      <td>0000-00-00</td>\n",
              "      <td>8</td>\n",
              "      <td>1</td>\n",
              "      <td>0.0</td>\n",
              "      <td>0</td>\n",
              "      <td>1276637483</td>\n",
              "      <td>NaN</td>\n",
              "      <td>One Piece</td>\n",
              "      <td>One Piece</td>\n",
              "      <td>ONE PIECE</td>\n",
              "      <td>OP</td>\n",
              "      <td>https://myanimelist.cdn-dena.com/images/anime/...</td>\n",
              "      <td>TV</td>\n",
              "      <td>Manga</td>\n",
              "      <td>0</td>\n",
              "      <td>Currently Airing</td>\n",
              "      <td>True</td>\n",
              "      <td>Oct 20, 1999 to ?</td>\n",
              "      <td>{'from': '1999-10-20', 'to': None}</td>\n",
              "      <td>24 min.</td>\n",
              "      <td>PG-13 - Teens 13 or older</td>\n",
              "      <td>8.54</td>\n",
              "      <td>423868</td>\n",
              "      <td>91.0</td>\n",
              "      <td>35</td>\n",
              "      <td>720133</td>\n",
              "      <td>69760</td>\n",
              "      <td>Several anime-original arcs have been adapted ...</td>\n",
              "      <td>Fall 1999</td>\n",
              "      <td>Sundays at 09:30 (JST)</td>\n",
              "      <td>{'Adaptation': [{'mal_id': 13, 'type': 'manga'...</td>\n",
              "      <td>Fuji TV, TAP, Shueisha</td>\n",
              "      <td>Funimation, 4Kids Entertainment</td>\n",
              "      <td>Toei Animation</td>\n",
              "      <td>Action, Adventure, Comedy, Super Power, Drama,...</td>\n",
              "      <td>['#01: \"We Are! (ウィーアー!)\" by Hiroshi Kitadani ...</td>\n",
              "      <td>['#01: \"memories\" by Maki Otsuki (eps 1-30)', ...</td>\n",
              "    </tr>\n",
              "    <tr>\n",
              "      <th>4</th>\n",
              "      <td>shuzzable</td>\n",
              "      <td>21</td>\n",
              "      <td>579</td>\n",
              "      <td>0000-00-00</td>\n",
              "      <td>0000-00-00</td>\n",
              "      <td>10</td>\n",
              "      <td>1</td>\n",
              "      <td>0.0</td>\n",
              "      <td>0</td>\n",
              "      <td>1391921419</td>\n",
              "      <td>NaN</td>\n",
              "      <td>One Piece</td>\n",
              "      <td>One Piece</td>\n",
              "      <td>ONE PIECE</td>\n",
              "      <td>OP</td>\n",
              "      <td>https://myanimelist.cdn-dena.com/images/anime/...</td>\n",
              "      <td>TV</td>\n",
              "      <td>Manga</td>\n",
              "      <td>0</td>\n",
              "      <td>Currently Airing</td>\n",
              "      <td>True</td>\n",
              "      <td>Oct 20, 1999 to ?</td>\n",
              "      <td>{'from': '1999-10-20', 'to': None}</td>\n",
              "      <td>24 min.</td>\n",
              "      <td>PG-13 - Teens 13 or older</td>\n",
              "      <td>8.54</td>\n",
              "      <td>423868</td>\n",
              "      <td>91.0</td>\n",
              "      <td>35</td>\n",
              "      <td>720133</td>\n",
              "      <td>69760</td>\n",
              "      <td>Several anime-original arcs have been adapted ...</td>\n",
              "      <td>Fall 1999</td>\n",
              "      <td>Sundays at 09:30 (JST)</td>\n",
              "      <td>{'Adaptation': [{'mal_id': 13, 'type': 'manga'...</td>\n",
              "      <td>Fuji TV, TAP, Shueisha</td>\n",
              "      <td>Funimation, 4Kids Entertainment</td>\n",
              "      <td>Toei Animation</td>\n",
              "      <td>Action, Adventure, Comedy, Super Power, Drama,...</td>\n",
              "      <td>['#01: \"We Are! (ウィーアー!)\" by Hiroshi Kitadani ...</td>\n",
              "      <td>['#01: \"memories\" by Maki Otsuki (eps 1-30)', ...</td>\n",
              "    </tr>\n",
              "  </tbody>\n",
              "</table>\n",
              "</div>"
            ],
            "text/plain": [
              "           username  ...                                       ending_theme\n",
              "0          karthiga  ...  ['#01: \"memories\" by Maki Otsuki (eps 1-30)', ...\n",
              "1  RedvelvetDaisuki  ...  ['#01: \"memories\" by Maki Otsuki (eps 1-30)', ...\n",
              "2         Damonashu  ...  ['#01: \"memories\" by Maki Otsuki (eps 1-30)', ...\n",
              "3             bskai  ...  ['#01: \"memories\" by Maki Otsuki (eps 1-30)', ...\n",
              "4         shuzzable  ...  ['#01: \"memories\" by Maki Otsuki (eps 1-30)', ...\n",
              "\n",
              "[5 rows x 41 columns]"
            ]
          },
          "metadata": {
            "tags": []
          },
          "execution_count": 9
        }
      ]
    },
    {
      "cell_type": "code",
      "metadata": {
        "colab": {
          "base_uri": "https://localhost:8080/"
        },
        "id": "HT2VwCkBvdP1",
        "outputId": "582dc4cc-7b50-4762-809f-d953db8ae28c"
      },
      "source": [
        "df.info()"
      ],
      "execution_count": 10,
      "outputs": [
        {
          "output_type": "stream",
          "text": [
            "<class 'pandas.core.frame.DataFrame'>\n",
            "Int64Index: 1048575 entries, 0 to 1048574\n",
            "Data columns (total 41 columns):\n",
            " #   Column               Non-Null Count    Dtype  \n",
            "---  ------               --------------    -----  \n",
            " 0   username             1048575 non-null  object \n",
            " 1   anime_id             1048575 non-null  int64  \n",
            " 2   my_watched_episodes  1048575 non-null  int64  \n",
            " 3   my_start_date        1048575 non-null  object \n",
            " 4   my_finish_date       1048575 non-null  object \n",
            " 5   my_score             1048575 non-null  int64  \n",
            " 6   my_status            1048575 non-null  int64  \n",
            " 7   my_rewatching        828664 non-null   float64\n",
            " 8   my_rewatching_ep     1048575 non-null  int64  \n",
            " 9   my_last_updated      1048575 non-null  int64  \n",
            " 10  my_tags              88264 non-null    object \n",
            " 11  title                1048575 non-null  object \n",
            " 12  title_english        812981 non-null   object \n",
            " 13  title_japanese       1048384 non-null  object \n",
            " 14  title_synonyms       770683 non-null   object \n",
            " 15  image_url            1048446 non-null  object \n",
            " 16  type                 1048575 non-null  object \n",
            " 17  source               1048575 non-null  object \n",
            " 18  episodes             1048575 non-null  int64  \n",
            " 19  status               1048575 non-null  object \n",
            " 20  airing               1048575 non-null  bool   \n",
            " 21  aired_string         1048575 non-null  object \n",
            " 22  aired                1048575 non-null  object \n",
            " 23  duration             1048575 non-null  object \n",
            " 24  rating               1048575 non-null  object \n",
            " 25  score                1048575 non-null  float64\n",
            " 26  scored_by            1048575 non-null  int64  \n",
            " 27  rank                 1018973 non-null  float64\n",
            " 28  popularity           1048575 non-null  int64  \n",
            " 29  members              1048575 non-null  int64  \n",
            " 30  favorites            1048575 non-null  int64  \n",
            " 31  background           337676 non-null   object \n",
            " 32  premiered            687804 non-null   object \n",
            " 33  broadcast            690009 non-null   object \n",
            " 34  related              1048575 non-null  object \n",
            " 35  producer             892288 non-null   object \n",
            " 36  licensor             778002 non-null   object \n",
            " 37  studio               1001756 non-null  object \n",
            " 38  genre                1048338 non-null  object \n",
            " 39  opening_theme        1048575 non-null  object \n",
            " 40  ending_theme         1048575 non-null  object \n",
            "dtypes: bool(1), float64(3), int64(11), object(26)\n",
            "memory usage: 329.0+ MB\n"
          ],
          "name": "stdout"
        }
      ]
    },
    {
      "cell_type": "code",
      "metadata": {
        "colab": {
          "base_uri": "https://localhost:8080/"
        },
        "id": "tdFdqGtP_jCc",
        "outputId": "47ecb4b5-c2f5-44c2-ad96-321634b0d5f7"
      },
      "source": [
        "df.shape"
      ],
      "execution_count": 11,
      "outputs": [
        {
          "output_type": "execute_result",
          "data": {
            "text/plain": [
              "(1048575, 41)"
            ]
          },
          "metadata": {
            "tags": []
          },
          "execution_count": 11
        }
      ]
    },
    {
      "cell_type": "code",
      "metadata": {
        "colab": {
          "base_uri": "https://localhost:8080/",
          "height": 283
        },
        "id": "36rABU-quuUJ",
        "outputId": "8401015a-ede9-4ad4-b43f-7793368a3978"
      },
      "source": [
        "df.my_score.value_counts().sort_values(ascending=False).plot(kind='bar',rot=0)"
      ],
      "execution_count": 12,
      "outputs": [
        {
          "output_type": "execute_result",
          "data": {
            "text/plain": [
              "<matplotlib.axes._subplots.AxesSubplot at 0x7f4b10257110>"
            ]
          },
          "metadata": {
            "tags": []
          },
          "execution_count": 12
        },
        {
          "output_type": "display_data",
          "data": {
            "image/png": "[encoded data removed]",
            "text/plain": [
              "<Figure size 432x288 with 1 Axes>"
            ]
          },
          "metadata": {
            "tags": [],
            "needs_background": "light"
          }
        }
      ]
    },
    {
      "cell_type": "markdown",
      "metadata": {
        "id": "Bjhp-h8kYxkC"
      },
      "source": [
        "People have used 0 the most to rate anime. Now, we drop all the unecessary columns before we train the model"
      ]
    },
    {
      "cell_type": "code",
      "metadata": {
        "colab": {
          "base_uri": "https://localhost:8080/",
          "height": 202
        },
        "id": "OVqREwO3QUm9",
        "outputId": "034b503a-21d1-4be7-aae5-aa635f7bb176"
      },
      "source": [
        "df = df.drop(['title_japanese', 'title_synonyms', 'image_url', 'opening_theme', 'rank', 'popularity', 'members', 'rating', 'title_english', 'ending_theme', 'studio', 'licensor', 'producer','related', 'broadcast', 'premiered', 'background', 'favorites','score', 'scored_by', 'duration', 'aired', 'aired_string', 'airing', 'type', 'source', 'episodes','status', 'my_tags', 'my_last_updated', 'my_rewatching_ep', 'my_rewatching', 'my_status', 'my_finish_date', 'my_start_date', 'my_watched_episodes'], axis=1)\r\n",
        "df.head()"
      ],
      "execution_count": 24,
      "outputs": [
        {
          "output_type": "execute_result",
          "data": {
            "text/html": [
              "<div>\n",
              "<style scoped>\n",
              "    .dataframe tbody tr th:only-of-type {\n",
              "        vertical-align: middle;\n",
              "    }\n",
              "\n",
              "    .dataframe tbody tr th {\n",
              "        vertical-align: top;\n",
              "    }\n",
              "\n",
              "    .dataframe thead th {\n",
              "        text-align: right;\n",
              "    }\n",
              "</style>\n",
              "<table border=\"1\" class=\"dataframe\">\n",
              "  <thead>\n",
              "    <tr style=\"text-align: right;\">\n",
              "      <th></th>\n",
              "      <th>username</th>\n",
              "      <th>anime_id</th>\n",
              "      <th>my_score</th>\n",
              "      <th>title</th>\n",
              "      <th>genre</th>\n",
              "    </tr>\n",
              "  </thead>\n",
              "  <tbody>\n",
              "    <tr>\n",
              "      <th>0</th>\n",
              "      <td>karthiga</td>\n",
              "      <td>21</td>\n",
              "      <td>9</td>\n",
              "      <td>One Piece</td>\n",
              "      <td>Action, Adventure, Comedy, Super Power, Drama,...</td>\n",
              "    </tr>\n",
              "    <tr>\n",
              "      <th>1</th>\n",
              "      <td>RedvelvetDaisuki</td>\n",
              "      <td>21</td>\n",
              "      <td>0</td>\n",
              "      <td>One Piece</td>\n",
              "      <td>Action, Adventure, Comedy, Super Power, Drama,...</td>\n",
              "    </tr>\n",
              "    <tr>\n",
              "      <th>2</th>\n",
              "      <td>Damonashu</td>\n",
              "      <td>21</td>\n",
              "      <td>10</td>\n",
              "      <td>One Piece</td>\n",
              "      <td>Action, Adventure, Comedy, Super Power, Drama,...</td>\n",
              "    </tr>\n",
              "    <tr>\n",
              "      <th>3</th>\n",
              "      <td>bskai</td>\n",
              "      <td>21</td>\n",
              "      <td>8</td>\n",
              "      <td>One Piece</td>\n",
              "      <td>Action, Adventure, Comedy, Super Power, Drama,...</td>\n",
              "    </tr>\n",
              "    <tr>\n",
              "      <th>4</th>\n",
              "      <td>shuzzable</td>\n",
              "      <td>21</td>\n",
              "      <td>10</td>\n",
              "      <td>One Piece</td>\n",
              "      <td>Action, Adventure, Comedy, Super Power, Drama,...</td>\n",
              "    </tr>\n",
              "  </tbody>\n",
              "</table>\n",
              "</div>"
            ],
            "text/plain": [
              "           username  ...                                              genre\n",
              "0          karthiga  ...  Action, Adventure, Comedy, Super Power, Drama,...\n",
              "1  RedvelvetDaisuki  ...  Action, Adventure, Comedy, Super Power, Drama,...\n",
              "2         Damonashu  ...  Action, Adventure, Comedy, Super Power, Drama,...\n",
              "3             bskai  ...  Action, Adventure, Comedy, Super Power, Drama,...\n",
              "4         shuzzable  ...  Action, Adventure, Comedy, Super Power, Drama,...\n",
              "\n",
              "[5 rows x 5 columns]"
            ]
          },
          "metadata": {
            "tags": []
          },
          "execution_count": 24
        }
      ]
    },
    {
      "cell_type": "code",
      "metadata": {
        "colab": {
          "base_uri": "https://localhost:8080/",
          "height": 202
        },
        "id": "mBWw9T1cM1qx",
        "outputId": "520e2096-dd36-44ff-ad13-38ba438163b2"
      },
      "source": [
        "df = df.rename(columns={'username': 'uid'})\r\n",
        "df.head()"
      ],
      "execution_count": 25,
      "outputs": [
        {
          "output_type": "execute_result",
          "data": {
            "text/html": [
              "<div>\n",
              "<style scoped>\n",
              "    .dataframe tbody tr th:only-of-type {\n",
              "        vertical-align: middle;\n",
              "    }\n",
              "\n",
              "    .dataframe tbody tr th {\n",
              "        vertical-align: top;\n",
              "    }\n",
              "\n",
              "    .dataframe thead th {\n",
              "        text-align: right;\n",
              "    }\n",
              "</style>\n",
              "<table border=\"1\" class=\"dataframe\">\n",
              "  <thead>\n",
              "    <tr style=\"text-align: right;\">\n",
              "      <th></th>\n",
              "      <th>uid</th>\n",
              "      <th>anime_id</th>\n",
              "      <th>my_score</th>\n",
              "      <th>title</th>\n",
              "      <th>genre</th>\n",
              "    </tr>\n",
              "  </thead>\n",
              "  <tbody>\n",
              "    <tr>\n",
              "      <th>0</th>\n",
              "      <td>karthiga</td>\n",
              "      <td>21</td>\n",
              "      <td>9</td>\n",
              "      <td>One Piece</td>\n",
              "      <td>Action, Adventure, Comedy, Super Power, Drama,...</td>\n",
              "    </tr>\n",
              "    <tr>\n",
              "      <th>1</th>\n",
              "      <td>RedvelvetDaisuki</td>\n",
              "      <td>21</td>\n",
              "      <td>0</td>\n",
              "      <td>One Piece</td>\n",
              "      <td>Action, Adventure, Comedy, Super Power, Drama,...</td>\n",
              "    </tr>\n",
              "    <tr>\n",
              "      <th>2</th>\n",
              "      <td>Damonashu</td>\n",
              "      <td>21</td>\n",
              "      <td>10</td>\n",
              "      <td>One Piece</td>\n",
              "      <td>Action, Adventure, Comedy, Super Power, Drama,...</td>\n",
              "    </tr>\n",
              "    <tr>\n",
              "      <th>3</th>\n",
              "      <td>bskai</td>\n",
              "      <td>21</td>\n",
              "      <td>8</td>\n",
              "      <td>One Piece</td>\n",
              "      <td>Action, Adventure, Comedy, Super Power, Drama,...</td>\n",
              "    </tr>\n",
              "    <tr>\n",
              "      <th>4</th>\n",
              "      <td>shuzzable</td>\n",
              "      <td>21</td>\n",
              "      <td>10</td>\n",
              "      <td>One Piece</td>\n",
              "      <td>Action, Adventure, Comedy, Super Power, Drama,...</td>\n",
              "    </tr>\n",
              "  </tbody>\n",
              "</table>\n",
              "</div>"
            ],
            "text/plain": [
              "                uid  ...                                              genre\n",
              "0          karthiga  ...  Action, Adventure, Comedy, Super Power, Drama,...\n",
              "1  RedvelvetDaisuki  ...  Action, Adventure, Comedy, Super Power, Drama,...\n",
              "2         Damonashu  ...  Action, Adventure, Comedy, Super Power, Drama,...\n",
              "3             bskai  ...  Action, Adventure, Comedy, Super Power, Drama,...\n",
              "4         shuzzable  ...  Action, Adventure, Comedy, Super Power, Drama,...\n",
              "\n",
              "[5 rows x 5 columns]"
            ]
          },
          "metadata": {
            "tags": []
          },
          "execution_count": 25
        }
      ]
    },
    {
      "cell_type": "code",
      "metadata": {
        "id": "fYaTyoLmQEbW"
      },
      "source": [
        "reader = Reader(rating_scale=(0, 10)) #required to specify the rating range for model to train\r\n",
        "data = Dataset.load_from_df(df[['uid', 'anime_id', 'my_score']], reader)"
      ],
      "execution_count": 26,
      "outputs": []
    },
    {
      "cell_type": "markdown",
      "metadata": {
        "id": "EpMfQdJJZmVI"
      },
      "source": [
        "Taking only columns required by the algorithm and splitting the data into training and test sets and training the model for 30 epochs"
      ]
    },
    {
      "cell_type": "code",
      "metadata": {
        "id": "sDR8JBOBy4tO"
      },
      "source": [
        "train, test = train_test_split(data, test_size=0.40)\r\n",
        "algo = SVD(verbose=True, n_epochs=30)"
      ],
      "execution_count": 27,
      "outputs": []
    },
    {
      "cell_type": "code",
      "metadata": {
        "colab": {
          "base_uri": "https://localhost:8080/"
        },
        "id": "0v_K653OzgHT",
        "outputId": "331386be-4c5a-48ea-b1b8-5f0bf8ccac89"
      },
      "source": [
        "algo.fit(train)"
      ],
      "execution_count": 28,
      "outputs": [
        {
          "output_type": "stream",
          "text": [
            "Processing epoch 0\n",
            "Processing epoch 1\n",
            "Processing epoch 2\n",
            "Processing epoch 3\n",
            "Processing epoch 4\n",
            "Processing epoch 5\n",
            "Processing epoch 6\n",
            "Processing epoch 7\n",
            "Processing epoch 8\n",
            "Processing epoch 9\n",
            "Processing epoch 10\n",
            "Processing epoch 11\n",
            "Processing epoch 12\n",
            "Processing epoch 13\n",
            "Processing epoch 14\n",
            "Processing epoch 15\n",
            "Processing epoch 16\n",
            "Processing epoch 17\n",
            "Processing epoch 18\n",
            "Processing epoch 19\n",
            "Processing epoch 20\n",
            "Processing epoch 21\n",
            "Processing epoch 22\n",
            "Processing epoch 23\n",
            "Processing epoch 24\n",
            "Processing epoch 25\n",
            "Processing epoch 26\n",
            "Processing epoch 27\n",
            "Processing epoch 28\n",
            "Processing epoch 29\n"
          ],
          "name": "stdout"
        },
        {
          "output_type": "execute_result",
          "data": {
            "text/plain": [
              "<surprise.prediction_algorithms.matrix_factorization.SVD at 0x7f4af0f49690>"
            ]
          },
          "metadata": {
            "tags": []
          },
          "execution_count": 28
        }
      ]
    },
    {
      "cell_type": "code",
      "metadata": {
        "id": "SlNnALnA0ZkK"
      },
      "source": [
        "pred = algo.test(test)"
      ],
      "execution_count": 29,
      "outputs": []
    },
    {
      "cell_type": "code",
      "metadata": {
        "colab": {
          "base_uri": "https://localhost:8080/"
        },
        "id": "PBPHLLk00rsA",
        "outputId": "b52d0041-7b8c-4bc5-e3e7-60e5a3222772"
      },
      "source": [
        "accuracy.rmse(pred)"
      ],
      "execution_count": 30,
      "outputs": [
        {
          "output_type": "stream",
          "text": [
            "RMSE: 3.5113\n"
          ],
          "name": "stdout"
        },
        {
          "output_type": "execute_result",
          "data": {
            "text/plain": [
              "3.5113404425927572"
            ]
          },
          "metadata": {
            "tags": []
          },
          "execution_count": 30
        }
      ]
    },
    {
      "cell_type": "markdown",
      "metadata": {
        "id": "swPn9WUDaKEO"
      },
      "source": [
        "We get RMSE of 3.5 which is a little high, but we will still use the model to get top 10 recommendations for users"
      ]
    },
    {
      "cell_type": "code",
      "metadata": {
        "id": "7gphZlguGhSF"
      },
      "source": [
        "def get_top_n(predictions, n=10):\r\n",
        "   top_n = defaultdict(list)\r\n",
        "   for uid, iid, true_r, est, _ in predictions:\r\n",
        "      top_n[uid].append((iid, est))\r\n",
        "\r\n",
        "   # Then sort the predictions for each user and retrieve the k highest ones.\r\n",
        "   for uid, user_ratings in top_n.items():\r\n",
        "      user_ratings.sort(key=lambda x: x[1], reverse=True)\r\n",
        "      top_n[uid] = user_ratings[:n]\r\n",
        "\r\n",
        "   return top_n"
      ],
      "execution_count": 31,
      "outputs": []
    },
    {
      "cell_type": "code",
      "metadata": {
        "id": "kcb-nfziRm3r"
      },
      "source": [
        "topn = get_top_n(pred,n=10)"
      ],
      "execution_count": 32,
      "outputs": []
    },
    {
      "cell_type": "code",
      "metadata": {
        "id": "N1tug2OzVoe8"
      },
      "source": [
        "anime_dict = {}\r\n",
        "for a_id in df.anime_id.unique():\r\n",
        "    anime_dict[a_id] = df.loc[df['anime_id'] == a_id, 'title'].iloc[0]"
      ],
      "execution_count": 33,
      "outputs": []
    },
    {
      "cell_type": "code",
      "metadata": {
        "id": "w47eyRYOVc_5"
      },
      "source": [
        "# to print top 10 recommendations for all the users\r\n",
        "# for uid, user_ratings in topn.items():\r\n",
        "#     print(uid, [anime_dict[iid] for (iid, _) in user_ratings])"
      ],
      "execution_count": 34,
      "outputs": []
    },
    {
      "cell_type": "markdown",
      "metadata": {
        "id": "ZqFWKKW3U8fG"
      },
      "source": [
        "Printing the animes reviewed by a random username and then printing the recommendations for the users for comparison"
      ]
    },
    {
      "cell_type": "code",
      "metadata": {
        "colab": {
          "base_uri": "https://localhost:8080/",
          "height": 415
        },
        "id": "9aoQpezBX93k",
        "outputId": "e28dfeb1-bf18-499e-85e9-ef329336a0dc"
      },
      "source": [
        "df[df['uid'] == 'EvaMassacre']"
      ],
      "execution_count": 35,
      "outputs": [
        {
          "output_type": "execute_result",
          "data": {
            "text/html": [
              "<div>\n",
              "<style scoped>\n",
              "    .dataframe tbody tr th:only-of-type {\n",
              "        vertical-align: middle;\n",
              "    }\n",
              "\n",
              "    .dataframe tbody tr th {\n",
              "        vertical-align: top;\n",
              "    }\n",
              "\n",
              "    .dataframe thead th {\n",
              "        text-align: right;\n",
              "    }\n",
              "</style>\n",
              "<table border=\"1\" class=\"dataframe\">\n",
              "  <thead>\n",
              "    <tr style=\"text-align: right;\">\n",
              "      <th></th>\n",
              "      <th>uid</th>\n",
              "      <th>anime_id</th>\n",
              "      <th>my_score</th>\n",
              "      <th>title</th>\n",
              "      <th>genre</th>\n",
              "    </tr>\n",
              "  </thead>\n",
              "  <tbody>\n",
              "    <tr>\n",
              "      <th>2302</th>\n",
              "      <td>EvaMassacre</td>\n",
              "      <td>59</td>\n",
              "      <td>0</td>\n",
              "      <td>Chobits</td>\n",
              "      <td>Sci-Fi, Comedy, Drama, Romance, Ecchi, Seinen</td>\n",
              "    </tr>\n",
              "    <tr>\n",
              "      <th>3644</th>\n",
              "      <td>EvaMassacre</td>\n",
              "      <td>120</td>\n",
              "      <td>9</td>\n",
              "      <td>Fruits Basket</td>\n",
              "      <td>Slice of Life, Comedy, Drama, Romance, Fantasy...</td>\n",
              "    </tr>\n",
              "    <tr>\n",
              "      <th>5189</th>\n",
              "      <td>EvaMassacre</td>\n",
              "      <td>232</td>\n",
              "      <td>8</td>\n",
              "      <td>Cardcaptor Sakura</td>\n",
              "      <td>Adventure, Comedy, Drama, Magic, Romance, Fant...</td>\n",
              "    </tr>\n",
              "    <tr>\n",
              "      <th>6240</th>\n",
              "      <td>EvaMassacre</td>\n",
              "      <td>249</td>\n",
              "      <td>0</td>\n",
              "      <td>InuYasha</td>\n",
              "      <td>Action, Adventure, Comedy, Historical, Demons,...</td>\n",
              "    </tr>\n",
              "    <tr>\n",
              "      <th>9866</th>\n",
              "      <td>EvaMassacre</td>\n",
              "      <td>853</td>\n",
              "      <td>8</td>\n",
              "      <td>Ouran Koukou Host Club</td>\n",
              "      <td>Comedy, Harem, Romance, School, Shoujo</td>\n",
              "    </tr>\n",
              "    <tr>\n",
              "      <th>...</th>\n",
              "      <td>...</td>\n",
              "      <td>...</td>\n",
              "      <td>...</td>\n",
              "      <td>...</td>\n",
              "      <td>...</td>\n",
              "    </tr>\n",
              "    <tr>\n",
              "      <th>932740</th>\n",
              "      <td>EvaMassacre</td>\n",
              "      <td>33354</td>\n",
              "      <td>0</td>\n",
              "      <td>Cardcaptor Sakura: Clear Card-hen</td>\n",
              "      <td>Adventure, Comedy, Fantasy, Magic, Romance, Sh...</td>\n",
              "    </tr>\n",
              "    <tr>\n",
              "      <th>936014</th>\n",
              "      <td>EvaMassacre</td>\n",
              "      <td>33743</td>\n",
              "      <td>0</td>\n",
              "      <td>Fuuka</td>\n",
              "      <td>Drama, Ecchi, Music, Romance, School, Shounen</td>\n",
              "    </tr>\n",
              "    <tr>\n",
              "      <th>946388</th>\n",
              "      <td>EvaMassacre</td>\n",
              "      <td>34839</td>\n",
              "      <td>0</td>\n",
              "      <td>Sanrio Danshi</td>\n",
              "      <td>Slice of Life, School</td>\n",
              "    </tr>\n",
              "    <tr>\n",
              "      <th>949087</th>\n",
              "      <td>EvaMassacre</td>\n",
              "      <td>35320</td>\n",
              "      <td>9</td>\n",
              "      <td>Cardcaptor Sakura: Clear Card-hen Prologue - S...</td>\n",
              "      <td>Fantasy, Romance, Shoujo</td>\n",
              "    </tr>\n",
              "    <tr>\n",
              "      <th>987559</th>\n",
              "      <td>EvaMassacre</td>\n",
              "      <td>521</td>\n",
              "      <td>5</td>\n",
              "      <td>Mermaid Melody Pichi Pichi Pitch</td>\n",
              "      <td>Adventure, Comedy, Magic, Romance, Shoujo</td>\n",
              "    </tr>\n",
              "  </tbody>\n",
              "</table>\n",
              "<p>414 rows × 5 columns</p>\n",
              "</div>"
            ],
            "text/plain": [
              "                uid  ...                                              genre\n",
              "2302    EvaMassacre  ...      Sci-Fi, Comedy, Drama, Romance, Ecchi, Seinen\n",
              "3644    EvaMassacre  ...  Slice of Life, Comedy, Drama, Romance, Fantasy...\n",
              "5189    EvaMassacre  ...  Adventure, Comedy, Drama, Magic, Romance, Fant...\n",
              "6240    EvaMassacre  ...  Action, Adventure, Comedy, Historical, Demons,...\n",
              "9866    EvaMassacre  ...             Comedy, Harem, Romance, School, Shoujo\n",
              "...             ...  ...                                                ...\n",
              "932740  EvaMassacre  ...  Adventure, Comedy, Fantasy, Magic, Romance, Sh...\n",
              "936014  EvaMassacre  ...      Drama, Ecchi, Music, Romance, School, Shounen\n",
              "946388  EvaMassacre  ...                              Slice of Life, School\n",
              "949087  EvaMassacre  ...                           Fantasy, Romance, Shoujo\n",
              "987559  EvaMassacre  ...          Adventure, Comedy, Magic, Romance, Shoujo\n",
              "\n",
              "[414 rows x 5 columns]"
            ]
          },
          "metadata": {
            "tags": []
          },
          "execution_count": 35
        }
      ]
    },
    {
      "cell_type": "code",
      "metadata": {
        "colab": {
          "base_uri": "https://localhost:8080/"
        },
        "id": "QsW0-j9fomTn",
        "outputId": "d9581d47-b460-438b-e1ff-28ba16196a2f"
      },
      "source": [
        "for n in topn['EvaMassacre']:\r\n",
        "  print(anime_dict[n[0]], df.loc[df['anime_id'] == n[0], 'genre'].iloc[0], sep='|')"
      ],
      "execution_count": 36,
      "outputs": [
        {
          "output_type": "stream",
          "text": [
            "Highschool of the Dead|Action, Horror, Supernatural, Ecchi, Shounen\n",
            "Hataraku Maou-sama!|Comedy, Demons, Supernatural, Romance, Fantasy\n",
            "Kuragehime|Slice of Life, Comedy, Josei\n",
            "Sen to Chihiro no Kamikakushi|Adventure, Supernatural, Drama\n",
            "Sukitte Ii na yo.|Drama, Romance, School, Shoujo\n",
            "Corpse Party: Missing Footage|Horror, School\n",
            "Re:Zero kara Hajimeru Isekai Seikatsu|Psychological, Drama, Thriller, Fantasy\n",
            "Steins;Gate|Thriller, Sci-Fi\n",
            "Prison School|Comedy, Ecchi, Romance, School, Seinen\n",
            "Corpse Party: Tortured Souls - Bougyakusareta Tamashii no Jukyou|Mystery, Horror, Supernatural\n"
          ],
          "name": "stdout"
        }
      ]
    },
    {
      "cell_type": "markdown",
      "metadata": {
        "id": "GzloHk2ZVUzu"
      },
      "source": [
        "We can see that the animes recommended belong to the same genres of anime like Comedy, Drama, Sci-Fi, Romance, Adventure that the user has already watched or is watching."
      ]
    }
  ]
}